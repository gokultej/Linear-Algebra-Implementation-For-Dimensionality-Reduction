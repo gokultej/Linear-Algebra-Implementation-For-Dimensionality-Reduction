{
 "cells": [
  {
   "cell_type": "code",
   "execution_count": 1,
   "id": "30aa71f2",
   "metadata": {},
   "outputs": [],
   "source": [
    "import numpy as np \n",
    "from numpy import linalg as LA"
   ]
  },
  {
   "cell_type": "code",
   "execution_count": 3,
   "id": "c65012dd",
   "metadata": {},
   "outputs": [
    {
     "name": "stdout",
     "output_type": "stream",
     "text": [
      "[[0.50470954 0.37727448 0.155525  ]\n",
      " [0.44909919 0.06106406 0.39962672]\n",
      " [0.74946109 0.6530041  0.83276177]]\n"
     ]
    }
   ],
   "source": [
    "A = np.random.rand(3,3)\n",
    "print(A)"
   ]
  },
  {
   "cell_type": "code",
   "execution_count": 5,
   "id": "1e7b29a5",
   "metadata": {},
   "outputs": [
    {
     "data": {
      "text/plain": [
       "(3, 3)"
      ]
     },
     "execution_count": 5,
     "metadata": {},
     "output_type": "execute_result"
    }
   ],
   "source": [
    "A.shape"
   ]
  },
  {
   "cell_type": "code",
   "execution_count": 7,
   "id": "9f7be8a4",
   "metadata": {},
   "outputs": [
    {
     "data": {
      "text/plain": [
       "-0.09565274459371287"
      ]
     },
     "execution_count": 7,
     "metadata": {},
     "output_type": "execute_result"
    }
   ],
   "source": [
    "LA.det(A)"
   ]
  },
  {
   "cell_type": "code",
   "execution_count": 8,
   "id": "14baf264",
   "metadata": {},
   "outputs": [],
   "source": [
    "invA = LA.inv(A)"
   ]
  },
  {
   "cell_type": "code",
   "execution_count": 10,
   "id": "99d0c02d",
   "metadata": {},
   "outputs": [
    {
     "name": "stdout",
     "output_type": "stream",
     "text": [
      "[[ 2.19655035  2.22284581 -1.47692547]\n",
      " [ 0.77873313 -3.17547475  1.37841592]\n",
      " [-2.58746862  0.48952963  1.44913825]]\n"
     ]
    }
   ],
   "source": [
    "print(invA)"
   ]
  },
  {
   "cell_type": "code",
   "execution_count": 16,
   "id": "778f0938",
   "metadata": {},
   "outputs": [
    {
     "data": {
      "text/plain": [
       "array([[ 1.00000000e+00,  4.82527280e-17, -2.79936124e-17],\n",
       "       [ 1.11255293e-16,  1.00000000e+00,  5.78831151e-17],\n",
       "       [ 4.47070262e-16,  3.23539917e-17,  1.00000000e+00]])"
      ]
     },
     "execution_count": 16,
     "metadata": {},
     "output_type": "execute_result"
    }
   ],
   "source": [
    "A.dot(invA)"
   ]
  },
  {
   "cell_type": "code",
   "execution_count": 14,
   "id": "54b013eb",
   "metadata": {},
   "outputs": [
    {
     "data": {
      "text/plain": [
       "array([[ 1.00000000e+00,  4.82527280e-17, -2.79936124e-17],\n",
       "       [ 1.11255293e-16,  1.00000000e+00,  5.78831151e-17],\n",
       "       [ 4.47070262e-16,  3.23539917e-17,  1.00000000e+00]])"
      ]
     },
     "execution_count": 14,
     "metadata": {},
     "output_type": "execute_result"
    }
   ],
   "source": [
    "A.dot(invA)"
   ]
  },
  {
   "cell_type": "code",
   "execution_count": 15,
   "id": "3b54248d",
   "metadata": {},
   "outputs": [],
   "source": [
    "LA.svd?"
   ]
  },
  {
   "cell_type": "code",
   "execution_count": 17,
   "id": "1dc1b3d8",
   "metadata": {},
   "outputs": [],
   "source": [
    "U,D,VT = LA.svd(A)"
   ]
  },
  {
   "cell_type": "code",
   "execution_count": 19,
   "id": "64ff550b",
   "metadata": {},
   "outputs": [
    {
     "data": {
      "text/plain": [
       "array([[ 1.00000000e+00, -2.77850686e-16,  8.45528686e-17],\n",
       "       [-2.77850686e-16,  1.00000000e+00,  1.79469804e-16],\n",
       "       [ 8.45528686e-17,  1.79469804e-16,  1.00000000e+00]])"
      ]
     },
     "execution_count": 19,
     "metadata": {},
     "output_type": "execute_result"
    }
   ],
   "source": [
    "U.dot(U.T)"
   ]
  },
  {
   "cell_type": "code",
   "execution_count": 20,
   "id": "aba97e57",
   "metadata": {},
   "outputs": [
    {
     "data": {
      "text/plain": [
       "array([[ 1.00000000e+00,  1.57661451e-16, -4.06756516e-17],\n",
       "       [ 1.57661451e-16,  1.00000000e+00, -1.54094760e-16],\n",
       "       [-4.06756516e-17, -1.54094760e-16,  1.00000000e+00]])"
      ]
     },
     "execution_count": 20,
     "metadata": {},
     "output_type": "execute_result"
    }
   ],
   "source": [
    "VT.dot(VT.T)"
   ]
  },
  {
   "cell_type": "code",
   "execution_count": 21,
   "id": "f082b765",
   "metadata": {},
   "outputs": [
    {
     "data": {
      "text/plain": [
       "(3,)"
      ]
     },
     "execution_count": 21,
     "metadata": {},
     "output_type": "execute_result"
    }
   ],
   "source": [
    "D.shape"
   ]
  },
  {
   "cell_type": "code",
   "execution_count": 23,
   "id": "81a2093c",
   "metadata": {},
   "outputs": [],
   "source": [
    "A = np.array([[1,0,0],[0,1,0],[0,0,0]])"
   ]
  },
  {
   "cell_type": "code",
   "execution_count": 24,
   "id": "11b1f255",
   "metadata": {},
   "outputs": [
    {
     "data": {
      "text/plain": [
       "array([[1, 0, 0],\n",
       "       [0, 1, 0],\n",
       "       [0, 0, 0]])"
      ]
     },
     "execution_count": 24,
     "metadata": {},
     "output_type": "execute_result"
    }
   ],
   "source": [
    "A"
   ]
  },
  {
   "cell_type": "code",
   "execution_count": 25,
   "id": "fe66536e",
   "metadata": {},
   "outputs": [],
   "source": [
    "b=np.array([0,0,1])"
   ]
  },
  {
   "cell_type": "code",
   "execution_count": 28,
   "id": "81f5421d",
   "metadata": {},
   "outputs": [
    {
     "name": "stderr",
     "output_type": "stream",
     "text": [
      "C:\\Users\\gokul\\AppData\\Local\\Temp\\ipykernel_14268\\147288326.py:1: FutureWarning: `rcond` parameter will change to the default of machine precision times ``max(M, N)`` where M and N are the input matrix dimensions.\n",
      "To use the future default and silence this warning we advise to pass `rcond=None`, to keep using the old, explicitly pass `rcond=-1`.\n",
      "  LA.lstsq(A,b)\n"
     ]
    },
    {
     "data": {
      "text/plain": [
       "(array([0., 0., 0.]), array([], dtype=float64), 2, array([1., 1., 0.]))"
      ]
     },
     "execution_count": 28,
     "metadata": {},
     "output_type": "execute_result"
    }
   ],
   "source": [
    "LA.lstsq(A,b)"
   ]
  },
  {
   "cell_type": "code",
   "execution_count": 29,
   "id": "ee4caf62",
   "metadata": {},
   "outputs": [
    {
     "data": {
      "text/plain": [
       "0.0"
      ]
     },
     "execution_count": 29,
     "metadata": {},
     "output_type": "execute_result"
    }
   ],
   "source": [
    "LA.det(A)"
   ]
  },
  {
   "cell_type": "code",
   "execution_count": 30,
   "id": "b768cd6f",
   "metadata": {},
   "outputs": [
    {
     "data": {
      "text/plain": [
       "array([[1., 0., 0.],\n",
       "       [0., 1., 0.],\n",
       "       [0., 0., 0.]])"
      ]
     },
     "execution_count": 30,
     "metadata": {},
     "output_type": "execute_result"
    }
   ],
   "source": [
    "LA.pinv(A)"
   ]
  },
  {
   "cell_type": "code",
   "execution_count": 31,
   "id": "9938b92b",
   "metadata": {},
   "outputs": [
    {
     "data": {
      "text/plain": [
       "2"
      ]
     },
     "execution_count": 31,
     "metadata": {},
     "output_type": "execute_result"
    }
   ],
   "source": [
    "np.trace(A)"
   ]
  },
  {
   "cell_type": "code",
   "execution_count": 32,
   "id": "423ced91",
   "metadata": {},
   "outputs": [],
   "source": [
    "A = np.random.rand(3,3)"
   ]
  },
  {
   "cell_type": "code",
   "execution_count": 33,
   "id": "f8543041",
   "metadata": {},
   "outputs": [
    {
     "data": {
      "text/plain": [
       "1.4837877055125888"
      ]
     },
     "execution_count": 33,
     "metadata": {},
     "output_type": "execute_result"
    }
   ],
   "source": [
    "np.trace(A)"
   ]
  },
  {
   "cell_type": "code",
   "execution_count": 34,
   "id": "190b9926",
   "metadata": {},
   "outputs": [
    {
     "data": {
      "text/plain": [
       "2.852548414084702"
      ]
     },
     "execution_count": 34,
     "metadata": {},
     "output_type": "execute_result"
    }
   ],
   "source": [
    "np.trace(A.dot(A.T))"
   ]
  },
  {
   "cell_type": "code",
   "execution_count": 35,
   "id": "9765c8f3",
   "metadata": {},
   "outputs": [
    {
     "data": {
      "text/plain": [
       "2.852548414084702"
      ]
     },
     "execution_count": 35,
     "metadata": {},
     "output_type": "execute_result"
    }
   ],
   "source": [
    "LA.norm(A,'fro')**2"
   ]
  },
  {
   "cell_type": "code",
   "execution_count": 37,
   "id": "0197d153",
   "metadata": {},
   "outputs": [
    {
     "data": {
      "text/plain": [
       "2.852548414084702"
      ]
     },
     "execution_count": 37,
     "metadata": {},
     "output_type": "execute_result"
    }
   ],
   "source": [
    "np.trace(A.T.dot(A))"
   ]
  },
  {
   "cell_type": "code",
   "execution_count": 39,
   "id": "78a906c6",
   "metadata": {},
   "outputs": [],
   "source": [
    "a,b=LA.eig(A)"
   ]
  },
  {
   "cell_type": "code",
   "execution_count": 40,
   "id": "f81060be",
   "metadata": {},
   "outputs": [
    {
     "data": {
      "text/plain": [
       "array([ 1.49668373, -0.38367373,  0.37077771])"
      ]
     },
     "execution_count": 40,
     "metadata": {},
     "output_type": "execute_result"
    }
   ],
   "source": [
    "a"
   ]
  },
  {
   "cell_type": "code",
   "execution_count": 41,
   "id": "fd05a602",
   "metadata": {},
   "outputs": [
    {
     "data": {
      "text/plain": [
       "array([[-0.63599713, -0.75218595,  0.41465298],\n",
       "       [-0.37036223, -0.13517137, -0.70761508],\n",
       "       [-0.67700773,  0.64493798,  0.57213967]])"
      ]
     },
     "execution_count": 41,
     "metadata": {},
     "output_type": "execute_result"
    }
   ],
   "source": [
    "b"
   ]
  },
  {
   "cell_type": "code",
   "execution_count": 42,
   "id": "09108015",
   "metadata": {},
   "outputs": [],
   "source": [
    "B = A.T.dot(A)"
   ]
  },
  {
   "cell_type": "code",
   "execution_count": 43,
   "id": "329d7ec0",
   "metadata": {},
   "outputs": [],
   "source": [
    "a,b = LA.eig(B)"
   ]
  },
  {
   "cell_type": "code",
   "execution_count": 44,
   "id": "e28c23e2",
   "metadata": {},
   "outputs": [
    {
     "data": {
      "text/plain": [
       "array([2.56809725, 0.19297861, 0.09147255])"
      ]
     },
     "execution_count": 44,
     "metadata": {},
     "output_type": "execute_result"
    }
   ],
   "source": [
    "a \n"
   ]
  },
  {
   "cell_type": "code",
   "execution_count": 45,
   "id": "8f8c86bf",
   "metadata": {},
   "outputs": [
    {
     "data": {
      "text/plain": [
       "array([[ 0.38935464,  0.90575254, -0.16737773],\n",
       "       [ 0.65391189, -0.39979185, -0.64231279],\n",
       "       [ 0.64869269, -0.14063718,  0.74794317]])"
      ]
     },
     "execution_count": 45,
     "metadata": {},
     "output_type": "execute_result"
    }
   ],
   "source": [
    "b"
   ]
  },
  {
   "cell_type": "code",
   "execution_count": 46,
   "id": "d6f60652",
   "metadata": {},
   "outputs": [],
   "source": [
    "a,b = LA.eigh(B)"
   ]
  },
  {
   "cell_type": "code",
   "execution_count": 47,
   "id": "2ae69796",
   "metadata": {},
   "outputs": [
    {
     "data": {
      "text/plain": [
       "array([0.09147255, 0.19297861, 2.56809725])"
      ]
     },
     "execution_count": 47,
     "metadata": {},
     "output_type": "execute_result"
    }
   ],
   "source": [
    "a"
   ]
  },
  {
   "cell_type": "code",
   "execution_count": 48,
   "id": "2e82699a",
   "metadata": {},
   "outputs": [
    {
     "data": {
      "text/plain": [
       "array([[-0.16737773, -0.90575254, -0.38935464],\n",
       "       [-0.64231279,  0.39979185, -0.65391189],\n",
       "       [ 0.74794317,  0.14063718, -0.64869269]])"
      ]
     },
     "execution_count": 48,
     "metadata": {},
     "output_type": "execute_result"
    }
   ],
   "source": [
    "b"
   ]
  },
  {
   "cell_type": "code",
   "execution_count": null,
   "id": "a7e53888",
   "metadata": {},
   "outputs": [],
   "source": []
  }
 ],
 "metadata": {
  "kernelspec": {
   "display_name": "Python 3 (ipykernel)",
   "language": "python",
   "name": "python3"
  },
  "language_info": {
   "codemirror_mode": {
    "name": "ipython",
    "version": 3
   },
   "file_extension": ".py",
   "mimetype": "text/x-python",
   "name": "python",
   "nbconvert_exporter": "python",
   "pygments_lexer": "ipython3",
   "version": "3.11.5"
  }
 },
 "nbformat": 4,
 "nbformat_minor": 5
}
